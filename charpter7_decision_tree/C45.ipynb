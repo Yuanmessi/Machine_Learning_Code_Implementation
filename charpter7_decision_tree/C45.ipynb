{
 "cells": [
  {
   "cell_type": "markdown",
   "source": [
    "# C4.5"
   ],
   "metadata": {
    "collapsed": false,
    "pycharm": {
     "name": "#%% md\n"
    }
   }
  },
  {
   "cell_type": "markdown",
   "source": [
    "# 基于NumPy的实现"
   ],
   "metadata": {
    "collapsed": false,
    "pycharm": {
     "name": "#%% md\n"
    }
   }
  },
  {
   "cell_type": "code",
   "execution_count": 1,
   "outputs": [],
   "source": [
    "import pandas as pd\n",
    "from math import log2"
   ],
   "metadata": {
    "collapsed": false,
    "pycharm": {
     "name": "#%%\n"
    }
   }
  },
  {
   "cell_type": "code",
   "execution_count": 2,
   "outputs": [],
   "source": [
    "# 定义信息熵计算函数\n",
    "def entropy(ele):\n",
    "    \"\"\"\n",
    "    输入:\n",
    "    ele: 包含类别取值的列表\n",
    "    输出:\n",
    "    entropy: 信息熵值\n",
    "    \"\"\"\n",
    "    # 计算列表中取值的概率分布\n",
    "    probs = [ele.count(i) / len(ele) for i in set(ele)]\n",
    "    # 计算信息熵\n",
    "    entropy = -sum([prob * log2(prob) for prob in probs])\n",
    "    return entropy"
   ],
   "metadata": {
    "collapsed": false,
    "pycharm": {
     "name": "#%%\n"
    }
   }
  },
  {
   "cell_type": "code",
   "execution_count": 3,
   "outputs": [],
   "source": [
    "# 根据数据集和指定特征定义数据集划分函数\n",
    "def df_split(df, col):\n",
    "    \"\"\"\n",
    "    输入:\n",
    "    df: 待划分的训练数据\n",
    "    col: 划分数据的依据特征\n",
    "    输出:\n",
    "    res_dict: 根据特征取值划分后的不同数据集字典\n",
    "    \"\"\"\n",
    "    # 获取依据特征的不同取值\n",
    "    unique_col_val = df[col].unique()\n",
    "    # 创建划分结果的数据集字典\n",
    "    res_dict = {elem : pd.DataFrame for elem in unique_col_val}\n",
    "    # 根据特征取值进行划分\n",
    "    for key in res_dict.keys():\n",
    "        res_dict[key] = df[:][df[col] == key]\n",
    "    return res_dict"
   ],
   "metadata": {
    "collapsed": false,
    "pycharm": {
     "name": "#%%\n"
    }
   }
  },
  {
   "cell_type": "code",
   "execution_count": 9,
   "outputs": [],
   "source": [
    "# 根据训练集和标签选择信息增益比最大的特征作为最优特征\n",
    "def choose_best_feature(df, label):\n",
    "    \"\"\"\n",
    "    输入:\n",
    "    df: 待划分的训练数据\n",
    "    label: 训练标签\n",
    "    输出:\n",
    "    max_value: 最大信息增益值\n",
    "    best_feature: 最优特征\n",
    "    max_split: 根据最优特征划分后的数据字典\n",
    "    \"\"\"\n",
    "    # 计算训练标签的信息熵\n",
    "    entropy_D = entropy(df[label].tolist())\n",
    "    # 特征集\n",
    "    cols = [col for col in df.columns if col not in [label]]\n",
    "    # 初始化最大信息增益比值、最优特征和划分后的数据集\n",
    "    max_value, best_feature, max_split = -999, None, None\n",
    "    # 遍历特征并根据特征取值进行划分\n",
    "    for col in cols:\n",
    "        # 根据当前特征划分数据集\n",
    "        split_set = df_split(df, col)\n",
    "        # 初始化经验条件熵\n",
    "        entropy_DA = 0\n",
    "        # 对划分后的数据集遍历计算\n",
    "        for subset_col, subset in split_set.items():\n",
    "            # 计算划分后的数据子集的标签信息熵\n",
    "            entropy_Di = entropy(subset[label].tolist())\n",
    "            # 计算当前特征的经验条件熵\n",
    "            entropy_DA += len(subset) / len(df) * entropy_Di\n",
    "        # 计算当前特征的信息增益\n",
    "        info_gain = entropy_D - entropy_DA\n",
    "        # 计算数据集关于当前特征取值的信息熵\n",
    "        entropy_AD = entropy(df[col].tolist())\n",
    "        # 计算当前特征的信息增益比\n",
    "        if entropy_AD:\n",
    "            info_gain_ratio = info_gain / entropy_AD\n",
    "            # 获取最大信息增益比，并保存对应的特征和划分结果\n",
    "            if info_gain_ratio > max_value:\n",
    "                max_value, best_feature, max_split = info_gain_ratio, col, split_set\n",
    "    return max_value, best_feature, max_split"
   ],
   "metadata": {
    "collapsed": false,
    "pycharm": {
     "name": "#%%\n"
    }
   }
  },
  {
   "cell_type": "code",
   "execution_count": 5,
   "outputs": [],
   "source": [
    "# C4.5算法类\n",
    "class C45Tree:\n",
    "    # 定义决策树结点类\n",
    "    class TreeNode:\n",
    "        # 定义树结点\n",
    "        def __init__(self, name):\n",
    "            self.name = name\n",
    "            self.connections = {}\n",
    "        # 定义树连接\n",
    "        def connect(self, label, node):\n",
    "            self.connections[label] = node\n",
    "\n",
    "    # 定义全局变量，包括数据集、特征集、标签和根节点\n",
    "    def __init__(self, df, label):\n",
    "        self.columns = df.columns\n",
    "        self.df = df\n",
    "        self.label = label\n",
    "        self.root = self.TreeNode(\"Root\")\n",
    "\n",
    "    # 构建树的调用\n",
    "    def construct_tree(self):\n",
    "        self.construct(self.root, \"\", self.df, self.columns)\n",
    "\n",
    "    # 决策树构建方法\n",
    "    def construct(self, parent_node, parent_label, sub_df, columns):\n",
    "        # 选择最优特征\n",
    "        max_value, best_feature, max_split = choose_best_feature(sub_df[columns], self.label)\n",
    "        # 如果选不到最优特征，则构造单结点树\n",
    "        if not best_feature:\n",
    "            node = self.TreeNode(sub_df[self.label].iloc[0])\n",
    "            parent_node.connect(parent_label, node)\n",
    "            return\n",
    "        # 根据最优特征及子结点构建树\n",
    "        node = self.TreeNode(best_feature)\n",
    "        parent_node.connect(parent_label, node)\n",
    "        # 生成新的特征集\n",
    "        new_columns = [col for col in columns if col != best_feature]\n",
    "        # 递归地构造决策树\n",
    "        for split_value, split_data in max_split.items():\n",
    "            self.construct(node, split_value, split_data, new_columns)\n",
    "\n",
    "    def print_tree(self, node, tabs):\n",
    "        print(tabs + node.name)\n",
    "        for connection, child_node in node.connections.items():\n",
    "            print(tabs + \"\\t\" + \"(\" + connection + \")\")\n",
    "            self.print_tree(child_node, tabs + \"\\t\\t\")"
   ],
   "metadata": {
    "collapsed": false,
    "pycharm": {
     "name": "#%%\n"
    }
   }
  },
  {
   "cell_type": "code",
   "execution_count": 6,
   "outputs": [
    {
     "data": {
      "text/plain": "(14, 5)"
     },
     "execution_count": 6,
     "metadata": {},
     "output_type": "execute_result"
    }
   ],
   "source": [
    "# 读取高尔夫数据集\n",
    "df = pd.read_csv('example_data.csv', dtype={'windy': 'str'})\n",
    "df.shape"
   ],
   "metadata": {
    "collapsed": false,
    "pycharm": {
     "name": "#%%\n"
    }
   }
  },
  {
   "cell_type": "code",
   "execution_count": 7,
   "outputs": [
    {
     "data": {
      "text/plain": "  humility   outlook play  temp  windy\n0     high     sunny   no   hot  false\n1     high     sunny   no   hot   true\n2     high  overcast  yes   hot  false\n3     high     rainy  yes  mild  false\n4   normal     rainy  yes  cool  false",
      "text/html": "<div>\n<style scoped>\n    .dataframe tbody tr th:only-of-type {\n        vertical-align: middle;\n    }\n\n    .dataframe tbody tr th {\n        vertical-align: top;\n    }\n\n    .dataframe thead th {\n        text-align: right;\n    }\n</style>\n<table border=\"1\" class=\"dataframe\">\n  <thead>\n    <tr style=\"text-align: right;\">\n      <th></th>\n      <th>humility</th>\n      <th>outlook</th>\n      <th>play</th>\n      <th>temp</th>\n      <th>windy</th>\n    </tr>\n  </thead>\n  <tbody>\n    <tr>\n      <th>0</th>\n      <td>high</td>\n      <td>sunny</td>\n      <td>no</td>\n      <td>hot</td>\n      <td>false</td>\n    </tr>\n    <tr>\n      <th>1</th>\n      <td>high</td>\n      <td>sunny</td>\n      <td>no</td>\n      <td>hot</td>\n      <td>true</td>\n    </tr>\n    <tr>\n      <th>2</th>\n      <td>high</td>\n      <td>overcast</td>\n      <td>yes</td>\n      <td>hot</td>\n      <td>false</td>\n    </tr>\n    <tr>\n      <th>3</th>\n      <td>high</td>\n      <td>rainy</td>\n      <td>yes</td>\n      <td>mild</td>\n      <td>false</td>\n    </tr>\n    <tr>\n      <th>4</th>\n      <td>normal</td>\n      <td>rainy</td>\n      <td>yes</td>\n      <td>cool</td>\n      <td>false</td>\n    </tr>\n  </tbody>\n</table>\n</div>"
     },
     "execution_count": 7,
     "metadata": {},
     "output_type": "execute_result"
    }
   ],
   "source": [
    "df.head()"
   ],
   "metadata": {
    "collapsed": false,
    "pycharm": {
     "name": "#%%\n"
    }
   }
  },
  {
   "cell_type": "code",
   "execution_count": 10,
   "outputs": [
    {
     "name": "stdout",
     "output_type": "stream",
     "text": [
      "Root\n",
      "\t()\n",
      "\t\toutlook\n",
      "\t\t\t(sunny)\n",
      "\t\t\t\thumility\n",
      "\t\t\t\t\t(high)\n",
      "\t\t\t\t\t\ttemp\n",
      "\t\t\t\t\t\t\t(hot)\n",
      "\t\t\t\t\t\t\t\twindy\n",
      "\t\t\t\t\t\t\t\t\t(false)\n",
      "\t\t\t\t\t\t\t\t\t\tno\n",
      "\t\t\t\t\t\t\t\t\t(true)\n",
      "\t\t\t\t\t\t\t\t\t\tno\n",
      "\t\t\t\t\t\t\t(mild)\n",
      "\t\t\t\t\t\t\t\tno\n",
      "\t\t\t\t\t(normal)\n",
      "\t\t\t\t\t\ttemp\n",
      "\t\t\t\t\t\t\t(cool)\n",
      "\t\t\t\t\t\t\t\tyes\n",
      "\t\t\t\t\t\t\t(mild)\n",
      "\t\t\t\t\t\t\t\tyes\n",
      "\t\t\t(overcast)\n",
      "\t\t\t\thumility\n",
      "\t\t\t\t\t(high)\n",
      "\t\t\t\t\t\ttemp\n",
      "\t\t\t\t\t\t\t(hot)\n",
      "\t\t\t\t\t\t\t\tyes\n",
      "\t\t\t\t\t\t\t(mild)\n",
      "\t\t\t\t\t\t\t\tyes\n",
      "\t\t\t\t\t(normal)\n",
      "\t\t\t\t\t\ttemp\n",
      "\t\t\t\t\t\t\t(cool)\n",
      "\t\t\t\t\t\t\t\tyes\n",
      "\t\t\t\t\t\t\t(hot)\n",
      "\t\t\t\t\t\t\t\tyes\n",
      "\t\t\t(rainy)\n",
      "\t\t\t\twindy\n",
      "\t\t\t\t\t(false)\n",
      "\t\t\t\t\t\thumility\n",
      "\t\t\t\t\t\t\t(high)\n",
      "\t\t\t\t\t\t\t\tyes\n",
      "\t\t\t\t\t\t\t(normal)\n",
      "\t\t\t\t\t\t\t\ttemp\n",
      "\t\t\t\t\t\t\t\t\t(cool)\n",
      "\t\t\t\t\t\t\t\t\t\tyes\n",
      "\t\t\t\t\t\t\t\t\t(mild)\n",
      "\t\t\t\t\t\t\t\t\t\tyes\n",
      "\t\t\t\t\t(true)\n",
      "\t\t\t\t\t\thumility\n",
      "\t\t\t\t\t\t\t(normal)\n",
      "\t\t\t\t\t\t\t\tno\n",
      "\t\t\t\t\t\t\t(high)\n",
      "\t\t\t\t\t\t\t\tno\n"
     ]
    }
   ],
   "source": [
    "# 创建C4.5决策树实例\n",
    "c45_tree = C45Tree(df, 'play')\n",
    "# 构造C4.5决策树\n",
    "c45_tree.construct_tree()\n",
    "# 打印树\n",
    "c45_tree.print_tree(c45_tree.root, \"\")"
   ],
   "metadata": {
    "collapsed": false,
    "pycharm": {
     "name": "#%%\n"
    }
   }
  }
 ],
 "metadata": {
  "kernelspec": {
   "display_name": "Python 3",
   "language": "python",
   "name": "python3"
  },
  "language_info": {
   "codemirror_mode": {
    "name": "ipython",
    "version": 3
   },
   "file_extension": ".py",
   "mimetype": "text/x-python",
   "name": "python",
   "nbconvert_exporter": "python",
   "pygments_lexer": "ipython3",
   "version": "3.7.3"
  },
  "toc": {
   "base_numbering": 1,
   "nav_menu": {},
   "number_sections": true,
   "sideBar": true,
   "skip_h1_title": false,
   "title_cell": "Table of Contents",
   "title_sidebar": "Contents",
   "toc_cell": false,
   "toc_position": {},
   "toc_section_display": true,
   "toc_window_display": false
  }
 },
 "nbformat": 4,
 "nbformat_minor": 2
}