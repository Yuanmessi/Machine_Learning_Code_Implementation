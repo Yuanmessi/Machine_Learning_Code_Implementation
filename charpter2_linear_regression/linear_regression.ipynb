{
 "cells": [
  {
   "cell_type": "markdown",
   "metadata": {},
   "source": [
    "# 线性回归"
   ]
  },
  {
   "cell_type": "markdown",
   "source": [
    "## 基于Numpy的代码实现"
   ],
   "metadata": {
    "collapsed": false,
    "pycharm": {
     "name": "#%% md\n"
    }
   }
  },
  {
   "cell_type": "code",
   "execution_count": 1,
   "outputs": [],
   "source": [
    "import numpy as np"
   ],
   "metadata": {
    "collapsed": false,
    "pycharm": {
     "name": "#%%\n"
    }
   }
  },
  {
   "cell_type": "markdown",
   "source": [
    "### 模型主体"
   ],
   "metadata": {
    "collapsed": false
   }
  },
  {
   "cell_type": "code",
   "execution_count": 2,
   "metadata": {},
   "outputs": [],
   "source": [
    "### 模型主体包括回归模型公式、均方损失函数和参数求偏导三部分\n",
    "def linear_loss(X, y, w, b):\n",
    "    \"\"\"\n",
    "    输入:\n",
    "    X: 输入变量矩阵\n",
    "    y: 输出标签向量\n",
    "    w: 变量参数权重矩阵\n",
    "    b: 偏置\n",
    "    输出:\n",
    "    y_hat: 线性回归模型预测值\n",
    "    loss: 均方损失\n",
    "    dw: 权重系数一阶偏导\n",
    "    db: 偏置一阶偏导\n",
    "    \"\"\"\n",
    "    # 训练样本量\n",
    "    num_train = X.shape[0]\n",
    "    # 线性回归预测值\n",
    "    y_hat = np.dot(X, w) + b\n",
    "    # 计算预测值与实际标签之间的均方损失\n",
    "    loss = np.sum((y_hat - y) ** 2) / num_train\n",
    "    # 基于均方损失对权重系数的一阶梯度\n",
    "    dw = 2 * np.dot(X.T, y_hat - y) / num_train\n",
    "    # 基于均方损失对偏置的一阶梯度\n",
    "    db = 2 * np.sum(y_hat - y) / num_train\n",
    "    return y_hat, loss, dw, db"
   ]
  },
  {
   "cell_type": "markdown",
   "metadata": {
    "pycharm": {
     "name": "#%% md\n"
    }
   },
   "source": [
    "### 训练过程"
   ]
  },
  {
   "cell_type": "code",
   "execution_count": 3,
   "outputs": [],
   "source": [
    "### 模型参数初始化\n",
    "def initialize_params(dims):\n",
    "    \"\"\"\n",
    "    输入:\n",
    "    dims: 训练数据的变量维度\n",
    "    输出:\n",
    "    w: 初始化权重参数\n",
    "    b: 初始化偏置参数\n",
    "    \"\"\"\n",
    "    # 初始化权重系数为零向量\n",
    "    w = np.zeros((dims, 1))\n",
    "    # 初始化偏置系数为零\n",
    "    b = 0\n",
    "    return w, b"
   ],
   "metadata": {
    "collapsed": false,
    "pycharm": {
     "name": "#%%\n"
    }
   }
  },
  {
   "cell_type": "code",
   "execution_count": 4,
   "outputs": [],
   "source": [
    "### 多轮训练迭代过程和梯度下降的参数优化更新\n",
    "def linear_train(X, y, learning_rate=0.01, epochs=10000):\n",
    "    \"\"\"\n",
    "    输入:\n",
    "    X: 输入变量矩阵\n",
    "    y: 输出标签向量\n",
    "    learning_rate: 学习率\n",
    "    epoch: 训练迭代次数\n",
    "    输出:\n",
    "    loss_his: 每次迭代的均方损失\n",
    "    params: 优化后的参数字典\n",
    "    grads: 优化后的参数梯度字典\n",
    "    \"\"\"\n",
    "    # 记录训练损失的空列表\n",
    "    loss_his = []\n",
    "    # 初始化模型参数\n",
    "    w, b = initialize_params(X.shape[1])\n",
    "    # 迭代过程\n",
    "    for i in range(1, epochs):\n",
    "        # 计算当前迭代的预测值、均方损失和梯度\n",
    "        y_hat, loss, dw, db = linear_loss(X, y, w, b)\n",
    "        # 基于梯度下降法的参数更新\n",
    "        w -= learning_rate * dw\n",
    "        b -= learning_rate * db\n",
    "        # 记录当前迭代的损失\n",
    "        loss_his.append(loss)\n",
    "        # 每10000次迭代打印当前损失信息\n",
    "        if i % 10000 == 0:\n",
    "            print('epoch %d loss %f' % (i, loss))\n",
    "        # 将当前迭代步优化后的参数保存到字典中\n",
    "        params = {\n",
    "            'w': w,\n",
    "            'b': b\n",
    "        }\n",
    "        # 将当前迭代步的梯度保存到字典中\n",
    "        grads = {\n",
    "            'dw': dw,\n",
    "            'db': db\n",
    "        }\n",
    "    return loss_his, params, grads"
   ],
   "metadata": {
    "collapsed": false,
    "pycharm": {
     "name": "#%%\n"
    }
   }
  },
  {
   "cell_type": "markdown",
   "source": [
    "### 预测过程"
   ],
   "metadata": {
    "collapsed": false,
    "pycharm": {
     "name": "#%% md\n"
    }
   }
  },
  {
   "cell_type": "code",
   "execution_count": 11,
   "outputs": [],
   "source": [
    "### 模型预测函数\n",
    "def predict(X, params):\n",
    "    \"\"\"\n",
    "    输入:\n",
    "    X: 测试集\n",
    "    params: 模型训练参数\n",
    "    输出:\n",
    "    y_pred: 模型预测结果\n",
    "    \"\"\"\n",
    "    # 获取模型参数\n",
    "    w, b = params['w'], params['b']\n",
    "    # 预测\n",
    "    y_pred = np.dot(X, w) + b\n",
    "    return y_pred"
   ],
   "metadata": {
    "collapsed": false,
    "pycharm": {
     "name": "#%%\n"
    }
   }
  },
  {
   "cell_type": "code",
   "execution_count": 12,
   "outputs": [],
   "source": [
    "### 回归评估指标R^2系数计算\n",
    "def r2_score(y_test, y_pred):\n",
    "    \"\"\"\n",
    "    输入:\n",
    "    y_test: 测试集标签值\n",
    "    y_pred: 测试集预测值\n",
    "    输出:\n",
    "    r2: R^2系数\n",
    "    \"\"\"\n",
    "    # 测试集标签均值\n",
    "    y_avg = np.mean(y_test)\n",
    "    # 总离差平方和\n",
    "    ss_tot = np.sum((y_test - y_avg) ** 2)\n",
    "    # 残差平方和\n",
    "    ss_res = np.sum((y_test - y_pred) ** 2)\n",
    "    # R^2计算\n",
    "    r2 = 1 - ss_res / ss_tot\n",
    "    return r2"
   ],
   "metadata": {
    "collapsed": false,
    "pycharm": {
     "name": "#%%\n"
    }
   }
  },
  {
   "cell_type": "markdown",
   "metadata": {
    "pycharm": {
     "name": "#%% md\n"
    }
   },
   "source": [
    "### 模型测试"
   ]
  },
  {
   "cell_type": "code",
   "execution_count": 7,
   "metadata": {},
   "outputs": [],
   "source": [
    "from sklearn.datasets import load_diabetes\n",
    "from sklearn.utils import shuffle"
   ]
  },
  {
   "cell_type": "code",
   "execution_count": 8,
   "outputs": [
    {
     "name": "stdout",
     "output_type": "stream",
     "text": [
      "(442, 10)\n",
      "(442,)\n",
      "[[ 0.03807591  0.05068012  0.06169621  0.02187235 -0.0442235  -0.03482076\n",
      "  -0.04340085 -0.00259226  0.01990842 -0.01764613]\n",
      " [-0.00188202 -0.04464164 -0.05147406 -0.02632783 -0.00844872 -0.01916334\n",
      "   0.07441156 -0.03949338 -0.06832974 -0.09220405]\n",
      " [ 0.08529891  0.05068012  0.04445121 -0.00567061 -0.04559945 -0.03419447\n",
      "  -0.03235593 -0.00259226  0.00286377 -0.02593034]\n",
      " [-0.08906294 -0.04464164 -0.01159501 -0.03665645  0.01219057  0.02499059\n",
      "  -0.03603757  0.03430886  0.02269202 -0.00936191]\n",
      " [ 0.00538306 -0.04464164 -0.03638469  0.02187235  0.00393485  0.01559614\n",
      "   0.00814208 -0.00259226 -0.03199144 -0.04664087]]\n",
      "[151.  75. 141. 206. 135.]\n"
     ]
    }
   ],
   "source": [
    "diabetes = load_diabetes()\n",
    "data, target = diabetes.data, diabetes.target\n",
    "print(data.shape)\n",
    "print(target.shape)\n",
    "print(data[:5])\n",
    "print(target[:5])"
   ],
   "metadata": {
    "collapsed": false,
    "pycharm": {
     "name": "#%%\n"
    }
   }
  },
  {
   "cell_type": "code",
   "execution_count": 9,
   "metadata": {},
   "outputs": [
    {
     "name": "stdout",
     "output_type": "stream",
     "text": [
      "X_train's shape:  (353, 10)\n",
      "X_test's shape:  (89, 10)\n",
      "y_train's shape:  (353, 1)\n",
      "y_test's shape:  (89, 1)\n"
     ]
    }
   ],
   "source": [
    "# 打乱数据集\n",
    "X, y = shuffle(data, target, random_state=13)\n",
    "# 按照8/2划分训练集和测试集\n",
    "offset = int(X.shape[0] * 0.8)\n",
    "# 训练集\n",
    "X_train, y_train = X[:offset], y[:offset]\n",
    "# 测试集\n",
    "X_test, y_test = X[offset:], y[offset:]\n",
    "# 将训练集和测试集（验证集）的标签改为列向量的形式\n",
    "y_train, y_test = y_train.reshape((-1,1)), y_test.reshape((-1,1))\n",
    "# 打印训练集和测试集维度\n",
    "print(\"X_train's shape: \", X_train.shape)\n",
    "print(\"X_test's shape: \", X_test.shape)\n",
    "print(\"y_train's shape: \", y_train.shape)\n",
    "print(\"y_test's shape: \", y_test.shape)"
   ]
  },
  {
   "cell_type": "code",
   "execution_count": 10,
   "metadata": {},
   "outputs": [
    {
     "name": "stdout",
     "output_type": "stream",
     "text": [
      "epoch 10000 loss 3219.178670\n",
      "epoch 20000 loss 2944.940452\n",
      "epoch 30000 loss 2848.052938\n",
      "epoch 40000 loss 2806.628090\n",
      "epoch 50000 loss 2788.051589\n",
      "epoch 60000 loss 2779.411239\n",
      "epoch 70000 loss 2775.230777\n",
      "epoch 80000 loss 2773.107175\n",
      "epoch 90000 loss 2771.957481\n",
      "epoch 100000 loss 2771.281723\n",
      "epoch 110000 loss 2770.843500\n",
      "epoch 120000 loss 2770.528226\n",
      "epoch 130000 loss 2770.278899\n",
      "epoch 140000 loss 2770.066388\n",
      "epoch 150000 loss 2769.875394\n",
      "epoch 160000 loss 2769.697658\n",
      "epoch 170000 loss 2769.528602\n",
      "epoch 180000 loss 2769.365613\n",
      "epoch 190000 loss 2769.207165\n",
      "{'w': array([[   9.84972769],\n",
      "       [-240.38803204],\n",
      "       [ 491.45462983],\n",
      "       [ 298.20492926],\n",
      "       [ -87.77291402],\n",
      "       [ -98.36201742],\n",
      "       [-186.17374049],\n",
      "       [ 177.38726503],\n",
      "       [ 424.17405761],\n",
      "       [  52.48952427]]), 'b': 150.8136201371859}\n"
     ]
    }
   ],
   "source": [
    "# 线性回归模型训练\n",
    "loss_his, params, grads = linear_train(X_train, y_train, 0.01, 200000)\n",
    "# 打印训练后得到模型参数\n",
    "print(params)"
   ]
  },
  {
   "cell_type": "code",
   "execution_count": 23,
   "outputs": [],
   "source": [
    "import matplotlib.pyplot as plt"
   ],
   "metadata": {
    "collapsed": false,
    "pycharm": {
     "name": "#%%\n"
    }
   }
  },
  {
   "cell_type": "code",
   "execution_count": 24,
   "outputs": [
    {
     "data": {
      "text/plain": "<Figure size 432x288 with 1 Axes>",
      "image/png": "[encoded data removed]"
     },
     "metadata": {
      "needs_background": "light"
     },
     "output_type": "display_data"
    }
   ],
   "source": [
    "# 可视化展示测试集拟合效果\n",
    "f = X_test.dot(params['w']) + params['b']\n",
    "plt.scatter(range(X_test.shape[0]), y_test)\n",
    "plt.plot(f, color = 'darkorange')\n",
    "plt.xlabel('X_test')\n",
    "plt.ylabel('y_test')\n",
    "plt.show()"
   ],
   "metadata": {
    "collapsed": false,
    "pycharm": {
     "name": "#%%\n"
    }
   }
  },
  {
   "cell_type": "code",
   "execution_count": 25,
   "outputs": [
    {
     "data": {
      "text/plain": "<Figure size 432x288 with 1 Axes>",
      "image/png": "[encoded data removed]"
     },
     "metadata": {
      "needs_background": "light"
     },
     "output_type": "display_data"
    }
   ],
   "source": [
    "# 训练中的均方损失下降过程\n",
    "plt.plot(loss_his, color = 'blue')\n",
    "plt.xlabel('epochs')\n",
    "plt.ylabel('loss')\n",
    "plt.show()"
   ],
   "metadata": {
    "collapsed": false,
    "pycharm": {
     "name": "#%%\n"
    }
   }
  },
  {
   "cell_type": "code",
   "execution_count": 15,
   "metadata": {},
   "outputs": [
    {
     "name": "stdout",
     "output_type": "stream",
     "text": [
      "[[ 82.59623749]\n",
      " [166.68562999]\n",
      " [111.5984967 ]\n",
      " [139.20861987]\n",
      " [174.84305146]] [[ 37.]\n",
      " [122.]\n",
      " [ 88.]\n",
      " [214.]\n",
      " [262.]]\n"
     ]
    }
   ],
   "source": [
    "# 基于测试集的预测\n",
    "y_pred = predict(X_test, params)\n",
    "# 打印前五个预测值\n",
    "y_pred[:5]"
   ]
  },
  {
   "cell_type": "code",
   "execution_count": 16,
   "outputs": [
    {
     "name": "stdout",
     "output_type": "stream",
     "text": [
      "[[ 37.]\n",
      " [122.]\n",
      " [ 88.]\n",
      " [214.]\n",
      " [262.]]\n"
     ]
    }
   ],
   "source": [
    "print(y_test[:5])"
   ],
   "metadata": {
    "collapsed": false,
    "pycharm": {
     "name": "#%%\n"
    }
   }
  },
  {
   "cell_type": "code",
   "execution_count": 17,
   "metadata": {},
   "outputs": [
    {
     "name": "stdout",
     "output_type": "stream",
     "text": [
      "0.5349331079250876\n"
     ]
    }
   ],
   "source": [
    "# 计算测试集的R^2系数\n",
    "print(r2_score(y_test, y_pred))"
   ]
  },
  {
   "cell_type": "markdown",
   "source": [
    "## 基于sklearn的模型实现"
   ],
   "metadata": {
    "collapsed": false,
    "pycharm": {
     "name": "#%% md\n"
    }
   }
  },
  {
   "cell_type": "code",
   "execution_count": 18,
   "outputs": [],
   "source": [
    "from sklearn import linear_model\n",
    "from sklearn.metrics import mean_squared_error, r2_score"
   ],
   "metadata": {
    "collapsed": false,
    "pycharm": {
     "name": "#%%\n"
    }
   }
  },
  {
   "cell_type": "code",
   "execution_count": 20,
   "outputs": [
    {
     "name": "stdout",
     "output_type": "stream",
     "text": [
      "MSE: 3371.884211\n",
      "R^2: 0.539208\n"
     ]
    }
   ],
   "source": [
    "# 定义模型实例\n",
    "regr = linear_model.LinearRegression()\n",
    "# 模型拟合训练数据\n",
    "regr.fit(X_train, y_train)\n",
    "# 模型预测值\n",
    "y_pred_ = regr.predict(X_test)\n",
    "# 输出模型评估指标\n",
    "print(\"MSE: %f\" % mean_squared_error(y_test, y_pred_))\n",
    "print(\"R^2: %f\" % r2_score(y_test, y_pred_))"
   ],
   "metadata": {
    "collapsed": false,
    "pycharm": {
     "name": "#%%\n"
    }
   }
  }
 ],
 "metadata": {
  "kernelspec": {
   "display_name": "Python 3",
   "language": "python",
   "name": "python3"
  },
  "language_info": {
   "codemirror_mode": {
    "name": "ipython",
    "version": 3
   },
   "file_extension": ".py",
   "mimetype": "text/x-python",
   "name": "python",
   "nbconvert_exporter": "python",
   "pygments_lexer": "ipython3",
   "version": "3.7.3"
  },
  "toc": {
   "base_numbering": 1,
   "nav_menu": {},
   "number_sections": true,
   "sideBar": true,
   "skip_h1_title": false,
   "title_cell": "Table of Contents",
   "title_sidebar": "Contents",
   "toc_cell": false,
   "toc_position": {},
   "toc_section_display": true,
   "toc_window_display": false
  }
 },
 "nbformat": 4,
 "nbformat_minor": 2
}