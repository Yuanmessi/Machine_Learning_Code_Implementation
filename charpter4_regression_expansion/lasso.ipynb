{
 "cells": [
  {
   "cell_type": "markdown",
   "source": [
    "# LASSO回归"
   ],
   "metadata": {
    "collapsed": false,
    "pycharm": {
     "name": "#%% md\n"
    }
   }
  },
  {
   "cell_type": "markdown",
   "source": [
    "## 基于Numpy的实现"
   ],
   "metadata": {
    "collapsed": false
   }
  },
  {
   "cell_type": "code",
   "execution_count": 1,
   "metadata": {},
   "outputs": [],
   "source": [
    "import numpy as np"
   ]
  },
  {
   "cell_type": "markdown",
   "source": [
    "### 模型主体"
   ],
   "metadata": {
    "collapsed": false,
    "pycharm": {
     "name": "#%% md\n"
    }
   }
  },
  {
   "cell_type": "code",
   "execution_count": 2,
   "outputs": [],
   "source": [
    "### 定义符号函数\n",
    "def sign(x):\n",
    "    \"\"\"\n",
    "    输入:\n",
    "    x: 浮点数值\n",
    "    输出:\n",
    "    整数数值\n",
    "    \"\"\"\n",
    "    if x > 0:\n",
    "        return 1\n",
    "    elif x < 0:\n",
    "        return -1\n",
    "    else:\n",
    "        return 0\n",
    "# 对符号函数进行向量化\n",
    "vec_sign = np.vectorize(sign)"
   ],
   "metadata": {
    "collapsed": false,
    "pycharm": {
     "name": "#%%\n"
    }
   }
  },
  {
   "cell_type": "code",
   "execution_count": 18,
   "outputs": [],
   "source": [
    "### 定义LASSO回归损失函数\n",
    "def l1_loss(X, y, w, b, alpha):\n",
    "    \"\"\"\n",
    "    输入:\n",
    "    X: 输入变量矩阵\n",
    "    y: 输出标签向量\n",
    "    w: 变量参数权重矩阵\n",
    "    b: 偏置\n",
    "    alpha: 正则化系数\n",
    "    输出:\n",
    "    y_hat: 线性模型预测输出\n",
    "    loss: 均方损失值\n",
    "    dw: 权重系数一阶偏导\n",
    "    db: 偏置一阶偏导\n",
    "    \"\"\"\n",
    "    # 训练样本量\n",
    "    num_train = X.shape[0]\n",
    "    # 回归模型预测输出\n",
    "    y_hat = np.dot(X, w) + b\n",
    "    # L1损失函数\n",
    "    loss = np.sum((y_hat - y) ** 2) / num_train + alpha * np.sum(abs(w))\n",
    "    # 基于向量化符号函数的参数梯度计算\n",
    "    dw = 2 * np.dot(X.T, y_hat - y) / num_train + alpha * vec_sign(w)\n",
    "    db = 2 * np.sum(y_hat - y) / num_train\n",
    "    return y_hat, loss, dw, db"
   ],
   "metadata": {
    "collapsed": false,
    "pycharm": {
     "name": "#%%\n"
    }
   }
  },
  {
   "cell_type": "markdown",
   "source": [
    "### 训练过程"
   ],
   "metadata": {
    "collapsed": false,
    "pycharm": {
     "name": "#%% md\n"
    }
   }
  },
  {
   "cell_type": "code",
   "execution_count": 4,
   "outputs": [],
   "source": [
    "### 初始化模型参数\n",
    "def initialize_params(dims):\n",
    "    \"\"\"\n",
    "    输入:\n",
    "    dims: 训练数据变量维度\n",
    "    输出:\n",
    "    w: 初始化权重系数值\n",
    "    b: 初始化偏置系数值\n",
    "    \"\"\"\n",
    "    # 初始化权重系数为零向量\n",
    "    w = np.zeros((dims, 1))\n",
    "    # 初始化偏置系数为零\n",
    "    b = 0\n",
    "    return w, b"
   ],
   "metadata": {
    "collapsed": false,
    "pycharm": {
     "name": "#%%\n"
    }
   }
  },
  {
   "cell_type": "code",
   "execution_count": 5,
   "outputs": [],
   "source": [
    "### 定义LASSO回归模型的训练过程\n",
    "def lasso_train(X, y, learning_rate=0.01, epochs=1000):\n",
    "    \"\"\"\n",
    "    输入:\n",
    "    X: 输入变量矩阵\n",
    "    y: 输出标签向量\n",
    "    learning_rate: 学习率\n",
    "    epochs: 训练迭代次数\n",
    "    输出:\n",
    "    loss_his: 每次迭代的L1损失列表\n",
    "    params: 优化后的参数字典\n",
    "    grads: 优化后的参数梯度字典\n",
    "    \"\"\"\n",
    "    # 训练特征数\n",
    "    num_feature = X.shape[1]\n",
    "    # 初始化模型参数\n",
    "    w, b = initialize_params(num_feature)\n",
    "    # 记录训练损失的空列表\n",
    "    loss_his = []\n",
    "    # 迭代训练\n",
    "    for i in range(1, epochs):\n",
    "        # 计算当前迭代的预测值、损失和梯度\n",
    "        y_hat, loss, dw, db = l1_loss(X, y, w, b, 0.1)\n",
    "        # 基于梯度下降法的参数更新\n",
    "        w -= learning_rate * dw\n",
    "        b -= learning_rate * db\n",
    "        # 记录当前迭代的损失\n",
    "        loss_his.append(loss)\n",
    "        # 每300次迭代打印当前损失信息\n",
    "        if i % 300 == 0:\n",
    "            print('epoch %d loss %f' % (i, loss))\n",
    "        # 将当前迭代步优化后的参数保存到字典中\n",
    "        params = {\n",
    "            'w': w,\n",
    "            'b': b\n",
    "        }\n",
    "        grads = {\n",
    "            'dw': dw,\n",
    "            'db': db\n",
    "        }\n",
    "    return loss_his, params, grads"
   ],
   "metadata": {
    "collapsed": false,
    "pycharm": {
     "name": "#%%\n"
    }
   }
  },
  {
   "cell_type": "markdown",
   "source": [
    "### 数据测试"
   ],
   "metadata": {
    "collapsed": false,
    "pycharm": {
     "name": "#%% md\n"
    }
   }
  },
  {
   "cell_type": "code",
   "execution_count": 6,
   "metadata": {},
   "outputs": [
    {
     "data": {
      "text/plain": "(101, 101)"
     },
     "execution_count": 6,
     "metadata": {},
     "output_type": "execute_result"
    }
   ],
   "source": [
    "# 读取示例数据\n",
    "data = np.genfromtxt('example.dat', delimiter=',')\n",
    "data.shape"
   ]
  },
  {
   "cell_type": "code",
   "execution_count": 7,
   "metadata": {},
   "outputs": [
    {
     "data": {
      "text/plain": "array([-1.14558, -1.29249,  0.84911,  0.36008,  0.26068,  2.51167,\n        2.31855,  0.60805,  0.3428 , -0.28903,  0.70398,  1.18534,\n       -1.44321, -0.72979, -0.06026, -0.50449, -0.3148 ,  0.94552,\n       -0.32453, -0.09248,  0.84448,  0.32551,  0.57684, -0.12461,\n       -0.5531 , -1.37074, -0.85719,  0.05802,  0.27486, -0.09269,\n        0.28742, -1.29854,  0.66856,  0.02223,  0.28599, -0.28722,\n        0.54304,  0.67301, -0.67343,  1.19857,  1.35595,  1.53356,\n       -0.61245,  1.91698,  1.89642,  1.28004,  0.60073, -0.37792,\n        0.34903,  2.17043, -1.52004, -0.75143, -0.54607, -0.46285,\n        0.28424,  0.02458, -2.31083, -0.43165,  0.87581, -0.07552,\n        0.66682,  1.65492, -0.71924,  1.39364,  0.5405 ,  0.55335,\n        1.00319, -0.76292, -0.26241, -1.32323, -0.15256, -0.30767,\n        0.37729,  0.02091,  1.05892, -0.30399,  1.76204, -1.38097,\n        0.96642, -0.34674,  0.92688, -1.05426, -0.50192,  0.11954,\n        0.97006,  2.01984,  0.00975,  0.65729, -1.01224,  0.93274,\n       -1.92116,  0.16212, -0.60644,  1.57021, -1.40166, -0.65263,\n       -0.08357,  0.78098,  1.5532 , -1.42135,  1.19238])"
     },
     "execution_count": 7,
     "metadata": {},
     "output_type": "execute_result"
    }
   ],
   "source": [
    "data[0]"
   ]
  },
  {
   "cell_type": "code",
   "execution_count": 8,
   "metadata": {},
   "outputs": [
    {
     "name": "stdout",
     "output_type": "stream",
     "text": [
      "(70, 101) (70, 1) (31, 101) (31, 1)\n"
     ]
    }
   ],
   "source": [
    "# 选择特征与标签\n",
    "x = data[:, 0:100]\n",
    "y = data[:, 100].reshape(-1, 1)\n",
    "# 加一列\n",
    "X = np.column_stack((np.ones((x.shape[0], 1)), x))\n",
    "# 划分训练集与测试集\n",
    "X_train, y_train = X[:70], y[:70]\n",
    "X_test, y_test = X[70:], y[70:]\n",
    "print(X_train.shape, y_train.shape, X_test.shape, y_test.shape)"
   ]
  },
  {
   "cell_type": "code",
   "execution_count": 19,
   "metadata": {},
   "outputs": [
    {
     "name": "stdout",
     "output_type": "stream",
     "text": [
      "epoch 300 loss 1.493162\n",
      "epoch 600 loss 1.442268\n",
      "epoch 900 loss 1.432396\n",
      "epoch 1200 loss 1.429992\n",
      "epoch 1500 loss 1.429493\n",
      "epoch 1800 loss 1.429318\n",
      "epoch 2100 loss 1.429034\n",
      "epoch 2400 loss 1.428779\n",
      "epoch 2700 loss 1.428903\n"
     ]
    }
   ],
   "source": [
    "# 执行训练示例\n",
    "loss_list, params, grads = lasso_train(X_train, y_train, 0.01, 3000)"
   ]
  },
  {
   "cell_type": "code",
   "execution_count": 20,
   "outputs": [
    {
     "data": {
      "text/plain": "{'w': array([[-9.22702902e-04],\n        [-8.25860170e-04],\n        [ 6.46744693e-01],\n        [ 6.68951202e-01],\n        [ 6.17984707e-04],\n        [ 1.01942048e+00],\n        [-1.66905271e-03],\n        [ 8.86360520e-01],\n        [-4.07988397e-01],\n        [ 3.99613172e-05],\n        [ 8.62022139e-04],\n        [ 8.43519764e-01],\n        [-1.20409623e-04],\n        [ 9.08904827e-01],\n        [-4.09865995e-02],\n        [-2.60022570e-01],\n        [-1.62156628e-03],\n        [ 6.66290418e-01],\n        [ 1.11334411e-03],\n        [ 8.56564513e-01],\n        [ 3.09814641e-02],\n        [ 1.61042865e-03],\n        [ 2.15128183e-05],\n        [ 5.59260279e-01],\n        [-5.59365055e-04],\n        [-3.94477432e-02],\n        [-9.78579177e-04],\n        [-3.78734945e-03],\n        [-1.09087999e-03],\n        [ 4.71287713e-01],\n        [ 4.59012091e-04],\n        [ 7.31624751e-04],\n        [-4.77603403e-05],\n        [ 1.02406516e-03],\n        [-6.65114210e-04],\n        [-1.28726319e-03],\n        [-1.09959981e-03],\n        [-4.71711992e-04],\n        [-1.56618190e-03],\n        [-1.06817476e-03],\n        [ 5.51696911e-04],\n        [-2.49336500e-05],\n        [ 7.39066972e-04],\n        [-1.27947533e-04],\n        [-3.21248795e-02],\n        [ 6.15528957e-04],\n        [ 1.98986047e-02],\n        [-3.32461945e-04],\n        [ 5.63579152e-04],\n        [ 8.98671057e-02],\n        [ 2.04992574e-04],\n        [-4.80542794e-05],\n        [ 4.33943193e-04],\n        [-3.39226777e-04],\n        [ 1.50612640e-03],\n        [-6.63852088e-02],\n        [ 2.19345443e-01],\n        [ 2.84366829e-04],\n        [-1.24821023e-01],\n        [-3.73548395e-02],\n        [ 1.68210106e-01],\n        [ 6.79603007e-02],\n        [ 3.88768679e-03],\n        [-1.16034119e-04],\n        [ 4.46051514e-04],\n        [-1.24193668e-03],\n        [-6.76324836e-04],\n        [ 1.58135369e-04],\n        [-1.81950752e-03],\n        [ 1.27766615e-01],\n        [ 3.45162842e-01],\n        [-2.69003003e-04],\n        [ 1.02236509e-03],\n        [ 2.45748958e-01],\n        [-3.41843318e-04],\n        [ 1.05542991e-01],\n        [ 1.14385982e-03],\n        [-7.10695945e-04],\n        [ 1.40988794e-03],\n        [ 2.91028760e-02],\n        [-6.14693759e-04],\n        [ 1.87084857e-01],\n        [-1.14714999e-03],\n        [-1.63403503e-02],\n        [ 1.77731274e-03],\n        [-6.03058221e-02],\n        [-9.93135962e-02],\n        [-7.76408210e-04],\n        [ 7.82610746e-02],\n        [-2.26836373e-01],\n        [-1.59996067e-04],\n        [-1.55509111e-02],\n        [ 2.13606326e-01],\n        [ 3.70134582e-02],\n        [ 4.42457017e-02],\n        [-1.04602535e-01],\n        [ 2.21314167e-04],\n        [ 1.94650502e-01],\n        [ 3.15393520e-04],\n        [-2.25332167e-01],\n        [ 5.17718569e-02]]),\n 'b': -0.22892270290208294}"
     },
     "execution_count": 20,
     "metadata": {},
     "output_type": "execute_result"
    }
   ],
   "source": [
    "# 设置NumPy数组显示格式为小数点后3位，且不采用科学计数法\n",
    "# np.set_printoptions(precision=3, suppress=True)\n",
    "# 获取训练参数\n",
    "params"
   ],
   "metadata": {
    "collapsed": false,
    "pycharm": {
     "name": "#%%\n"
    }
   }
  },
  {
   "cell_type": "markdown",
   "source": [
    "## 基于sklearn的实现"
   ],
   "metadata": {
    "collapsed": false,
    "pycharm": {
     "name": "#%% md\n"
    }
   }
  },
  {
   "cell_type": "code",
   "execution_count": 11,
   "outputs": [],
   "source": [
    "from sklearn import linear_model"
   ],
   "metadata": {
    "collapsed": false,
    "pycharm": {
     "name": "#%%\n"
    }
   }
  },
  {
   "cell_type": "code",
   "execution_count": 12,
   "outputs": [
    {
     "name": "stdout",
     "output_type": "stream",
     "text": [
      "sklearn LASSO intercept: [-0.23824815]\n",
      "sklearn LASSO coefficients: [ 0.         -0.          0.59804516  0.64230683  0.          1.0070841\n",
      " -0.          0.81815409 -0.22756851  0.          0.          0.793601\n",
      "  0.          0.74108335 -0.         -0.1250168  -0.          0.79407074\n",
      "  0.          0.81867433  0.          0.         -0.          0.56664364\n",
      " -0.         -0.         -0.         -0.         -0.          0.49526526\n",
      "  0.          0.          0.          0.         -0.         -0.\n",
      " -0.         -0.         -0.         -0.          0.         -0.\n",
      "  0.         -0.         -0.0078254   0.          0.         -0.\n",
      " -0.          0.01986066  0.         -0.          0.         -0.\n",
      "  0.         -0.06797763  0.24581414  0.         -0.04180909 -0.\n",
      "  0.10542471  0.03156005  0.          0.          0.         -0.\n",
      " -0.          0.         -0.          0.12548825  0.2340209  -0.\n",
      "  0.          0.16875552  0.          0.01596168  0.         -0.\n",
      "  0.          0.         -0.          0.20050804 -0.         -0.\n",
      "  0.         -0.04148499 -0.10729826 -0.          0.02385741 -0.10792259\n",
      " -0.         -0.          0.12314032  0.          0.         -0.05876521\n",
      " -0.          0.09361648 -0.         -0.17806356  0.06636851]\n",
      "sklearn LASSO number of iterations: 24\n"
     ]
    }
   ],
   "source": [
    "# 创建LASSO回归模型实例\n",
    "sk_LASSO = linear_model.Lasso(alpha=0.1)\n",
    "# 对训练集进行拟合\n",
    "sk_LASSO.fit(X_train, y_train)\n",
    "# 打印模型相关系数\n",
    "print(\"sklearn LASSO intercept:\", sk_LASSO.intercept_)\n",
    "print(\"sklearn LASSO coefficients:\", sk_LASSO.coef_)\n",
    "print(\"sklearn LASSO number of iterations:\", sk_LASSO.n_iter_)"
   ],
   "metadata": {
    "collapsed": false,
    "pycharm": {
     "name": "#%%\n"
    }
   }
  }
 ],
 "metadata": {
  "kernelspec": {
   "display_name": "Python 3",
   "language": "python",
   "name": "python3"
  },
  "language_info": {
   "codemirror_mode": {
    "name": "ipython",
    "version": 3
   },
   "file_extension": ".py",
   "mimetype": "text/x-python",
   "name": "python",
   "nbconvert_exporter": "python",
   "pygments_lexer": "ipython3",
   "version": "3.6.4"
  },
  "toc": {
   "base_numbering": 1,
   "nav_menu": {},
   "number_sections": true,
   "sideBar": true,
   "skip_h1_title": false,
   "title_cell": "Table of Contents",
   "title_sidebar": "Contents",
   "toc_cell": false,
   "toc_position": {},
   "toc_section_display": true,
   "toc_window_display": false
  }
 },
 "nbformat": 4,
 "nbformat_minor": 2
}