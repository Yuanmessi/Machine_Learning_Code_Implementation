{
 "cells": [
  {
   "cell_type": "markdown",
   "metadata": {},
   "source": [
    "# CART"
   ]
  },
  {
   "cell_type": "markdown",
   "source": [
    "## 基于NumPy的实现"
   ],
   "metadata": {
    "collapsed": false,
    "pycharm": {
     "name": "#%% md\n"
    }
   }
  },
  {
   "cell_type": "code",
   "execution_count": 1,
   "outputs": [],
   "source": [
    "import numpy as np"
   ],
   "metadata": {
    "collapsed": false,
    "pycharm": {
     "name": "#%%\n"
    }
   }
  },
  {
   "cell_type": "markdown",
   "source": [
    "### 二叉决策树"
   ],
   "metadata": {
    "collapsed": false
   }
  },
  {
   "cell_type": "code",
   "execution_count": 2,
   "outputs": [],
   "source": [
    "### 定义树结点\n",
    "class TreeNode:\n",
    "    def __init__(self, feature_ix=None, threshold=None, leaf_value=None, left_branch=None, right_branch=None):\n",
    "        # 特征索引\n",
    "        self.feature_ix = feature_ix\n",
    "        # 特征的划分阈值\n",
    "        self.threshold = threshold\n",
    "        # 叶子结点的取值\n",
    "        self.leaf_value = leaf_value\n",
    "        # 左子树\n",
    "        self.left_branch = left_branch\n",
    "        # 右子树\n",
    "        self.right_branch = right_branch"
   ],
   "metadata": {
    "collapsed": false,
    "pycharm": {
     "name": "#%%\n"
    }
   }
  },
  {
   "cell_type": "code",
   "execution_count": 3,
   "outputs": [],
   "source": [
    "### 定义二叉决策树\n",
    "class BinaryDecisionTree:\n",
    "    ### 决策树初始参数\n",
    "    def __init__(self, min_samples_split=3, min_gini_impurity=999, max_depth=float(\"inf\"), loss=None):\n",
    "        # 根结点\n",
    "        self.root = None\n",
    "        # 结点的最小分裂样本数\n",
    "        self.min_samples_split = min_samples_split\n",
    "        # 结点的基尼不纯度\n",
    "        self.min_gini_impurity = min_gini_impurity\n",
    "        # 树的最大深度\n",
    "        self.max_depth = max_depth\n",
    "        # 基尼不纯度计算函数\n",
    "        self.gini_impurity_calc = None\n",
    "        # 叶子结点的值预测函数\n",
    "        self.leaf_value_calc = None\n",
    "        # 损失函数\n",
    "        self.loss = loss\n",
    "\n",
    "    ### 决策树拟合函数\n",
    "    def fit(self, X, y, loss=None):\n",
    "        # 递归构建决策树\n",
    "        self.root = self._construct_tree(X, y)\n",
    "        self.loss = None\n",
    "\n",
    "    ### 决策树构建函数\n",
    "    def _construct_tree(self, X, y, current_depth=0):\n",
    "        # 初始化最小基尼不纯度\n",
    "        init_gini_impurity = 999\n",
    "        # 初始化最优特征索引和阈值\n",
    "        best_criteria = None\n",
    "        # 初始化数据子集\n",
    "        best_subsets = None\n",
    "\n",
    "        # 合并输入和标签\n",
    "        Xy = np.concatenate((X, y), axis=1)\n",
    "        # 获取样本数和特征数\n",
    "        m, n = X.shape\n",
    "        # 设定决策树构建条件\n",
    "        # 训练样本量大于结点最小分裂样本数且当前树深度小于最大深度\n",
    "        if m >= self.min_samples_split and current_depth <= self.max_depth:\n",
    "            # 遍历计算每个特征的基尼不纯度\n",
    "            for f_i in range(n):\n",
    "                # 获取第i个特征的所有取值\n",
    "                f_values = np.expand_dims(X[:, f_i], axis=1)\n",
    "                # 获取第i个特征的唯一取值\n",
    "                unique_values = np.unique(f_values)\n",
    "\n",
    "                # 遍历取值并寻找最优特征分裂阈值\n",
    "                for threshold in unique_values:\n",
    "                    # 特征结点二叉分裂\n",
    "                    Xy1, Xy2 = feature_split(Xy, f_i, threshold)\n",
    "                    # 如果分裂后的子集大小都不为0\n",
    "                    if len(Xy1) != 0 and len(Xy2) != 0:\n",
    "                        # 获取两个子集的标签值\n",
    "                        y1, y2 = Xy1[:, n:], Xy2[:, n:]\n",
    "\n",
    "                        # 计算基尼不纯度\n",
    "                        impurity = self.gini_impurity_calc(y, y1, y2)\n",
    "                        # 获取最小基尼不纯度\n",
    "                        # 最优特征索引和分类阈值\n",
    "                        if impurity < init_gini_impurity:\n",
    "                            init_gini_impurity = impurity\n",
    "                            best_criteria = {\n",
    "                                \"feature_ix\": f_i,\n",
    "                                \"threshold\": threshold\n",
    "                            }\n",
    "                            best_subsets = {\n",
    "                                \"leftX\": Xy1[:, :n],\n",
    "                                \"lefty\": Xy1[:, n:],\n",
    "                                \"rightX\": Xy2[:, :n],\n",
    "                                \"righty\": Xy2[:, n:]\n",
    "                            }\n",
    "\n",
    "        # 如果计算的最小基尼不纯度小于设定的最小基尼不纯度\n",
    "        if init_gini_impurity < self.min_gini_impurity:\n",
    "            # 分别构建左右子树\n",
    "            left_branch = self._construct_tree(best_subsets[\"leftX\"], best_subsets[\"lefty\"], current_depth + 1)\n",
    "            right_branch = self._construct_tree(best_subsets[\"rightX\"], best_subsets[\"righty\"], current_depth + 1)\n",
    "            return TreeNode(feature_ix=best_criteria[\"feature_ix\"], threshold=best_criteria[\"threshold\"],\n",
    "                            left_branch=left_branch, right_branch=right_branch)\n",
    "\n",
    "        # 计算叶子结点取值\n",
    "        leaf_value = self.leaf_value_calc(y)\n",
    "        return TreeNode(leaf_value=leaf_value)\n",
    "\n",
    "    ### 数据集预测函数\n",
    "    def predict(self, X):\n",
    "        y_pred = [self.predict_value(sample) for sample in X]\n",
    "        return y_pred\n",
    "\n",
    "    ### 定义二叉树值的预测函数\n",
    "    def predict_value(self, x, tree=None):\n",
    "        if tree is None:\n",
    "            tree = self.root\n",
    "        # 如果叶子结点已有值，则直接返回已有值\n",
    "        if tree.leaf_value is not None:\n",
    "            return tree.leaf_value\n",
    "        # 选择特征并获取特征值\n",
    "        feature_value = x[tree.feature_ix]\n",
    "        # 判断落入左子树还是右子树\n",
    "        branch = tree.right_branch\n",
    "        if isinstance(feature_value, int) or isinstance(feature_value, float):\n",
    "            if feature_value >= tree.threshold:\n",
    "                branch = tree.left_branch\n",
    "        elif feature_value == tree.threshold:\n",
    "            branch = tree.left_branch\n",
    "        # 测试子集\n",
    "        return self.predict_value(x, branch)"
   ],
   "metadata": {
    "collapsed": false,
    "pycharm": {
     "name": "#%%\n"
    }
   }
  },
  {
   "cell_type": "code",
   "execution_count": 10,
   "outputs": [],
   "source": [
    "# 定义二叉特征分裂函数\n",
    "def feature_split(X, feature_i, threshold):\n",
    "    \"\"\"\n",
    "    输入:\n",
    "    X: 训练数据集\n",
    "    feature_i: 特征索引\n",
    "    threshold: 特征分裂阈值\n",
    "    输出:\n",
    "    X_left, X_right: 分裂后的子数据集\n",
    "    \"\"\"\n",
    "    if isinstance(threshold, int) or isinstance(threshold, float):\n",
    "        split_func = lambda sample: sample[feature_i] >= threshold\n",
    "    else:\n",
    "        split_func = lambda sample: sample[feature_i] == threshold\n",
    "    X_left = np.array([sample for sample in X if split_func(sample)])\n",
    "    X_right = np.array([sample for sample in X if not split_func(sample)])\n",
    "    return X_left, X_right"
   ],
   "metadata": {
    "collapsed": false,
    "pycharm": {
     "name": "#%%\n"
    }
   }
  },
  {
   "cell_type": "markdown",
   "source": [
    "### 分类树"
   ],
   "metadata": {
    "collapsed": false,
    "pycharm": {
     "name": "#%% md\n"
    }
   }
  },
  {
   "cell_type": "code",
   "execution_count": 5,
   "outputs": [],
   "source": [
    "### CART分类树\n",
    "class ClassificationTree(BinaryDecisionTree):\n",
    "    ### 定义基尼不纯度的计算过程\n",
    "    def _calculate_gini_impurity(self, y, y1, y2):\n",
    "        p = len(y1) / len(y)\n",
    "        gini_impurity = p * calculate_gini(y1) + (1 - p) * calculate_gini(y2)\n",
    "        return gini_impurity\n",
    "\n",
    "    ### 多数投票\n",
    "    def _majority_vote(self, y):\n",
    "        most_common = None\n",
    "        max_count = 0\n",
    "        for label in np.unique(y):\n",
    "            # 统计多数\n",
    "            count = len(y[y == label])\n",
    "            if count > max_count:\n",
    "                most_common = label\n",
    "                max_count = count\n",
    "        return most_common\n",
    "\n",
    "    # 分类树拟合\n",
    "    def fit(self, X, y):\n",
    "        self.gini_impurity_calc = self._calculate_gini_impurity\n",
    "        self.leaf_value_calc = self._majority_vote\n",
    "        super(ClassificationTree, self).fit(X, y)"
   ],
   "metadata": {
    "collapsed": false,
    "pycharm": {
     "name": "#%%\n"
    }
   }
  },
  {
   "cell_type": "code",
   "execution_count": 6,
   "outputs": [],
   "source": [
    "### 基尼指数计算函数\n",
    "def calculate_gini(nums):\n",
    "    \"\"\"\n",
    "    输入:\n",
    "    nums: 包含类别取值的列表\n",
    "    输出:\n",
    "    gini: 基尼指数值\n",
    "    \"\"\"\n",
    "    nums = nums.tolist()\n",
    "    # 获取列表类别的概率分布\n",
    "    probs = [nums.count(i) / len(nums) for i in np.unique(nums)]\n",
    "    # 计算基尼指数\n",
    "    gini = sum([p * (1-p) for p in probs])\n",
    "    return gini"
   ],
   "metadata": {
    "collapsed": false,
    "pycharm": {
     "name": "#%%\n"
    }
   }
  },
  {
   "cell_type": "markdown",
   "source": [
    "### 分类树测试"
   ],
   "metadata": {
    "collapsed": false,
    "pycharm": {
     "name": "#%% md\n"
    }
   }
  },
  {
   "cell_type": "code",
   "execution_count": 7,
   "outputs": [],
   "source": [
    "from sklearn import datasets\n",
    "from sklearn.metrics import accuracy_score\n",
    "from sklearn.model_selection import train_test_split"
   ],
   "metadata": {
    "collapsed": false,
    "pycharm": {
     "name": "#%%\n"
    }
   }
  },
  {
   "cell_type": "code",
   "execution_count": 8,
   "outputs": [],
   "source": [
    "# 导入iris数据集\n",
    "data = datasets.load_iris()\n",
    "# 获取输入和标签\n",
    "X, y = data.data, data.target\n",
    "y = y.reshape((-1, 1))\n",
    "# 划分训练集和测试集\n",
    "X_train, X_test, y_train, y_test = train_test_split(X, y, test_size=0.3)"
   ],
   "metadata": {
    "collapsed": false,
    "pycharm": {
     "name": "#%%\n"
    }
   }
  },
  {
   "cell_type": "code",
   "execution_count": 11,
   "outputs": [
    {
     "name": "stdout",
     "output_type": "stream",
     "text": [
      "Accuracy of CART classification tree based on NumPy:  0.9555555555555556\n"
     ]
    }
   ],
   "source": [
    "# 创建分类树模型实例\n",
    "clf = ClassificationTree()\n",
    "# 分类树训练\n",
    "clf.fit(X_train, y_train)\n",
    "#分类树预测\n",
    "y_pred = clf.predict(X_test)\n",
    "# 打印模型分类准确率\n",
    "print(\"Accuracy of CART classification tree based on NumPy: \", accuracy_score(y_test, y_pred))"
   ],
   "metadata": {
    "collapsed": false,
    "pycharm": {
     "name": "#%%\n"
    }
   }
  },
  {
   "cell_type": "markdown",
   "source": [
    "## 回归树"
   ],
   "metadata": {
    "collapsed": false,
    "pycharm": {
     "name": "#%% md\n"
    }
   }
  },
  {
   "cell_type": "code",
   "execution_count": 20,
   "outputs": [],
   "source": [
    "### CART回归树\n",
    "class RegressionTree(BinaryDecisionTree):\n",
    "    ### 计算方差减少量\n",
    "    def _calculate_variance_reduction(self, y, y1, y2):\n",
    "        var_tot = np.var(y, axis=0)\n",
    "        var_y1 = np.var(y1, axis=0)\n",
    "        var_y2 = np.var(y2, axis=0)\n",
    "        frac_1 = len(y1) / len(y)\n",
    "        frac_2 = len(y2) / len(y)\n",
    "        # 计算方差减少量\n",
    "        variance_reduction = var_tot - (frac_1 * var_y1 + frac_2 * var_y2)\n",
    "        return sum(variance_reduction)\n",
    "\n",
    "    ### 结点值取平均\n",
    "    def _mean_of_y(self, y):\n",
    "        value = np.mean(y, axis=0)\n",
    "        return value if len(value) > 1 else value[0]\n",
    "\n",
    "    # 回归树拟合\n",
    "    def fit(self, X, y):\n",
    "        self.gini_impurity_calc = self._calculate_variance_reduction\n",
    "        self.leaf_value_calc = self._mean_of_y\n",
    "        super(RegressionTree, self).fit(X, y)"
   ],
   "metadata": {
    "collapsed": false,
    "pycharm": {
     "name": "#%%\n"
    }
   }
  },
  {
   "cell_type": "markdown",
   "source": [
    "### 回归树测试"
   ],
   "metadata": {
    "collapsed": false,
    "pycharm": {
     "name": "#%% md\n"
    }
   }
  },
  {
   "cell_type": "code",
   "execution_count": 15,
   "outputs": [],
   "source": [
    "from sklearn.datasets import load_boston\n",
    "from sklearn.metrics import mean_squared_error"
   ],
   "metadata": {
    "collapsed": false,
    "pycharm": {
     "name": "#%%\n"
    }
   }
  },
  {
   "cell_type": "code",
   "execution_count": 16,
   "outputs": [],
   "source": [
    "# 获取输入和标签\n",
    "X, y = load_boston(return_X_y=True)\n",
    "y = y.reshape((-1, 1))\n",
    "# 划分训练集和测试集\n",
    "X_train, X_test, y_train, y_test = train_test_split(X, y, test_size=0.3)"
   ],
   "metadata": {
    "collapsed": false,
    "pycharm": {
     "name": "#%%\n"
    }
   }
  },
  {
   "cell_type": "code",
   "execution_count": 21,
   "outputs": [
    {
     "name": "stdout",
     "output_type": "stream",
     "text": [
      "MSE of CART regression tree based on NumPy:  84.1635855263158\n"
     ]
    }
   ],
   "source": [
    "# 创建回归树模型实例\n",
    "reg = RegressionTree()\n",
    "# 模型训练\n",
    "reg.fit(X_train, y_train)\n",
    "# 模型预测\n",
    "y_pred = reg.predict(X_test)\n",
    "# 评估均方误差\n",
    "mse = mean_squared_error(y_test, y_pred)\n",
    "print(\"MSE of CART regression tree based on NumPy: \", mse)"
   ],
   "metadata": {
    "collapsed": false,
    "pycharm": {
     "name": "#%%\n"
    }
   }
  },
  {
   "cell_type": "markdown",
   "source": [
    "## 基于sklearn的实现"
   ],
   "metadata": {
    "collapsed": false,
    "pycharm": {
     "name": "#%% md\n"
    }
   }
  },
  {
   "cell_type": "code",
   "execution_count": 22,
   "outputs": [],
   "source": [
    "from sklearn.tree import DecisionTreeClassifier, DecisionTreeRegressor"
   ],
   "metadata": {
    "collapsed": false,
    "pycharm": {
     "name": "#%%\n"
    }
   }
  },
  {
   "cell_type": "code",
   "execution_count": 13,
   "outputs": [
    {
     "name": "stdout",
     "output_type": "stream",
     "text": [
      "Accuracy of CART classification tree based on sklearn: 0.9555555555555556\n"
     ]
    }
   ],
   "source": [
    "# 创建分类树实例\n",
    "clf = DecisionTreeClassifier()\n",
    "# 分类树训练\n",
    "clf.fit(X_train, y_train)\n",
    "# 分类树预测\n",
    "y_pred = clf.predict(X_test)\n",
    "print(\"Accuracy of CART classification tree based on sklearn:\", accuracy_score(y_test, y_pred))"
   ],
   "metadata": {
    "collapsed": false,
    "pycharm": {
     "name": "#%%\n"
    }
   }
  },
  {
   "cell_type": "code",
   "execution_count": 23,
   "outputs": [
    {
     "name": "stdout",
     "output_type": "stream",
     "text": [
      "MSE of CART regression tree based on sklearn: 25.763815789473686\n"
     ]
    }
   ],
   "source": [
    "# 创建回归树实例\n",
    "reg = DecisionTreeRegressor()\n",
    "# 回归树训练\n",
    "reg.fit(X_train, y_train)\n",
    "# 回归树预测\n",
    "y_pred = reg.predict(X_test)\n",
    "print(\"MSE of CART regression tree based on sklearn:\", mean_squared_error(y_test, y_pred))"
   ],
   "metadata": {
    "collapsed": false,
    "pycharm": {
     "name": "#%%\n"
    }
   }
  }
 ],
 "metadata": {
  "kernelspec": {
   "display_name": "Python 3",
   "language": "python",
   "name": "python3"
  },
  "language_info": {
   "codemirror_mode": {
    "name": "ipython",
    "version": 3
   },
   "file_extension": ".py",
   "mimetype": "text/x-python",
   "name": "python",
   "nbconvert_exporter": "python",
   "pygments_lexer": "ipython3",
   "version": "3.7.3"
  },
  "toc": {
   "base_numbering": 1,
   "nav_menu": {},
   "number_sections": true,
   "sideBar": true,
   "skip_h1_title": false,
   "title_cell": "Table of Contents",
   "title_sidebar": "Contents",
   "toc_cell": false,
   "toc_position": {},
   "toc_section_display": true,
   "toc_window_display": false
  }
 },
 "nbformat": 4,
 "nbformat_minor": 2
}