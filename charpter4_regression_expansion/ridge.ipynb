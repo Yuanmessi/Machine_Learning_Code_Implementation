{
 "cells": [
  {
   "cell_type": "markdown",
   "source": [
    "# Ridge回归"
   ],
   "metadata": {
    "collapsed": false,
    "pycharm": {
     "name": "#%% md\n"
    }
   }
  },
  {
   "cell_type": "markdown",
   "source": [
    "## 基于Numpy的实现"
   ],
   "metadata": {
    "collapsed": false
   }
  },
  {
   "cell_type": "code",
   "execution_count": 1,
   "metadata": {},
   "outputs": [],
   "source": [
    "import numpy as np"
   ]
  },
  {
   "cell_type": "markdown",
   "source": [
    "### 模型主体"
   ],
   "metadata": {
    "collapsed": false,
    "pycharm": {
     "name": "#%% md\n"
    }
   }
  },
  {
   "cell_type": "code",
   "execution_count": 2,
   "outputs": [],
   "source": [
    "### 定义Ridge回归损失函数\n",
    "def l2_loss(X, y, w, b, alpha):\n",
    "    \"\"\"\n",
    "    输入:\n",
    "    X: 输入变量矩阵\n",
    "    y: 输出标签向量\n",
    "    w: 变量参数权重矩阵\n",
    "    b: 偏置\n",
    "    alpha: 正则化系数\n",
    "    输出:\n",
    "    y_hat: 线性模型预测输出\n",
    "    loss: 均方损失值\n",
    "    dw: 权重系数一阶偏导\n",
    "    db: 偏置一阶偏导\n",
    "    \"\"\"\n",
    "    # 训练样本量\n",
    "    num_train = X.shape[0]\n",
    "    # 回归模型预测输出\n",
    "    y_hat = np.dot(X, w) + b\n",
    "    # L1损失函数\n",
    "    loss = np.sum((y_hat - y) ** 2) / num_train + alpha * np.sum(np.square(w))\n",
    "    # 基于向量化符号函数的参数梯度计算\n",
    "    dw = 2 * np.dot(X.T, y_hat - y) / num_train + 2 * alpha * w\n",
    "    db = 2 * np.sum(y_hat - y) / num_train\n",
    "    return y_hat, loss, dw, db"
   ],
   "metadata": {
    "collapsed": false,
    "pycharm": {
     "name": "#%%\n"
    }
   }
  },
  {
   "cell_type": "markdown",
   "source": [
    "### 训练过程"
   ],
   "metadata": {
    "collapsed": false
   }
  },
  {
   "cell_type": "code",
   "execution_count": 3,
   "outputs": [],
   "source": [
    "### 初始化模型参数\n",
    "def initialize_params(dims):\n",
    "    \"\"\"\n",
    "    输入:\n",
    "    dims: 训练数据变量维度\n",
    "    输出:\n",
    "    w: 初始化权重系数值\n",
    "    b: 初始化偏置系数值\n",
    "    \"\"\"\n",
    "    # 初始化权重系数为零向量\n",
    "    w = np.zeros((dims, 1))\n",
    "    # 初始化偏置系数为零\n",
    "    b = 0\n",
    "    return w, b"
   ],
   "metadata": {
    "collapsed": false,
    "pycharm": {
     "name": "#%%\n"
    }
   }
  },
  {
   "cell_type": "code",
   "execution_count": 4,
   "outputs": [],
   "source": [
    "### 定义Ridge回归模型的训练过程\n",
    "def ridge_train(X, y, learning_rate=0.01, epochs=1000):\n",
    "    \"\"\"\n",
    "    输入:\n",
    "    X: 输入变量矩阵\n",
    "    y: 输出标签向量\n",
    "    learning_rate: 学习率\n",
    "    epochs: 训练迭代次数\n",
    "    输出:\n",
    "    loss_his: 每次迭代的L2损失列表\n",
    "    params: 优化后的参数字典\n",
    "    grads: 优化后的参数梯度字典\n",
    "    \"\"\"\n",
    "    # 训练特征数\n",
    "    num_feature = X.shape[1]\n",
    "    # 初始化模型参数\n",
    "    w, b = initialize_params(num_feature)\n",
    "    # 记录训练损失的空列表\n",
    "    loss_his = []\n",
    "    # 迭代训练\n",
    "    for i in range(1, epochs):\n",
    "        # 计算当前迭代的预测值、损失和梯度\n",
    "        y_hat, loss, dw, db = l2_loss(X, y, w, b, 0.1)\n",
    "        # 基于梯度下降法的参数更新\n",
    "        w -= learning_rate * dw\n",
    "        b -= learning_rate * db\n",
    "        # 记录当前迭代的损失\n",
    "        loss_his.append(loss)\n",
    "        # 每300次迭代打印当前损失信息\n",
    "        if i % 300 == 0:\n",
    "            print('epoch %d loss %f' % (i, loss))\n",
    "        # 将当前迭代步优化后的参数保存到字典中\n",
    "        params = {\n",
    "            'w': w,\n",
    "            'b': b\n",
    "        }\n",
    "        grads = {\n",
    "            'dw': dw,\n",
    "            'db': db\n",
    "        }\n",
    "    return loss_his, params, grads"
   ],
   "metadata": {
    "collapsed": false,
    "pycharm": {
     "name": "#%%\n"
    }
   }
  },
  {
   "cell_type": "markdown",
   "source": [
    "### 数据测试\n"
   ],
   "metadata": {
    "collapsed": false
   }
  },
  {
   "cell_type": "code",
   "execution_count": 5,
   "metadata": {},
   "outputs": [
    {
     "data": {
      "text/plain": "(101, 101)"
     },
     "execution_count": 5,
     "metadata": {},
     "output_type": "execute_result"
    }
   ],
   "source": [
    "# 读取示例数据\n",
    "data = np.genfromtxt('example.dat', delimiter=',')\n",
    "data.shape"
   ]
  },
  {
   "cell_type": "code",
   "execution_count": 6,
   "metadata": {},
   "outputs": [
    {
     "data": {
      "text/plain": "array([-1.14558, -1.29249,  0.84911,  0.36008,  0.26068,  2.51167,\n        2.31855,  0.60805,  0.3428 , -0.28903,  0.70398,  1.18534,\n       -1.44321, -0.72979, -0.06026, -0.50449, -0.3148 ,  0.94552,\n       -0.32453, -0.09248,  0.84448,  0.32551,  0.57684, -0.12461,\n       -0.5531 , -1.37074, -0.85719,  0.05802,  0.27486, -0.09269,\n        0.28742, -1.29854,  0.66856,  0.02223,  0.28599, -0.28722,\n        0.54304,  0.67301, -0.67343,  1.19857,  1.35595,  1.53356,\n       -0.61245,  1.91698,  1.89642,  1.28004,  0.60073, -0.37792,\n        0.34903,  2.17043, -1.52004, -0.75143, -0.54607, -0.46285,\n        0.28424,  0.02458, -2.31083, -0.43165,  0.87581, -0.07552,\n        0.66682,  1.65492, -0.71924,  1.39364,  0.5405 ,  0.55335,\n        1.00319, -0.76292, -0.26241, -1.32323, -0.15256, -0.30767,\n        0.37729,  0.02091,  1.05892, -0.30399,  1.76204, -1.38097,\n        0.96642, -0.34674,  0.92688, -1.05426, -0.50192,  0.11954,\n        0.97006,  2.01984,  0.00975,  0.65729, -1.01224,  0.93274,\n       -1.92116,  0.16212, -0.60644,  1.57021, -1.40166, -0.65263,\n       -0.08357,  0.78098,  1.5532 , -1.42135,  1.19238])"
     },
     "execution_count": 6,
     "metadata": {},
     "output_type": "execute_result"
    }
   ],
   "source": [
    "data[0]"
   ]
  },
  {
   "cell_type": "code",
   "execution_count": 7,
   "metadata": {},
   "outputs": [
    {
     "name": "stdout",
     "output_type": "stream",
     "text": [
      "(70, 101) (70, 1) (31, 101) (31, 1)\n"
     ]
    }
   ],
   "source": [
    "# 选择特征与标签\n",
    "x = data[:, 0:100]\n",
    "y = data[:, 100].reshape(-1, 1)\n",
    "# 加一列\n",
    "X = np.column_stack((np.ones((x.shape[0], 1)), x))\n",
    "# 划分训练集与测试集\n",
    "X_train, y_train = X[:70], y[:70]\n",
    "X_test, y_test = X[70:], y[70:]\n",
    "print(X_train.shape, y_train.shape, X_test.shape, y_test.shape)"
   ]
  },
  {
   "cell_type": "code",
   "execution_count": 8,
   "metadata": {},
   "outputs": [
    {
     "name": "stdout",
     "output_type": "stream",
     "text": [
      "epoch 300 loss 0.703214\n",
      "epoch 600 loss 0.688477\n",
      "epoch 900 loss 0.686890\n",
      "epoch 1200 loss 0.686525\n",
      "epoch 1500 loss 0.686367\n",
      "epoch 1800 loss 0.686275\n",
      "epoch 2100 loss 0.686217\n",
      "epoch 2400 loss 0.686180\n",
      "epoch 2700 loss 0.686156\n"
     ]
    }
   ],
   "source": [
    "# 执行训练示例\n",
    "loss_list, params, grads = ridge_train(X_train, y_train, 0.01, 3000)"
   ]
  },
  {
   "cell_type": "code",
   "execution_count": 9,
   "metadata": {},
   "outputs": [
    {
     "data": {
      "text/plain": "{'w': array([[-0.01274401],\n        [-0.13577965],\n        [ 0.44995799],\n        [ 0.29598226],\n        [ 0.13251107],\n        [ 0.73391187],\n        [-0.11724036],\n        [ 0.73770615],\n        [-0.31029702],\n        [ 0.04398261],\n        [-0.022068  ],\n        [ 0.63371473],\n        [ 0.04351178],\n        [ 0.70299436],\n        [ 0.09163995],\n        [-0.30449914],\n        [ 0.09403611],\n        [ 0.36474124],\n        [-0.04799417],\n        [ 0.70366001],\n        [ 0.06494192],\n        [-0.00480895],\n        [-0.10705298],\n        [ 0.41602075],\n        [-0.03373413],\n        [-0.06878905],\n        [-0.01149144],\n        [-0.03381789],\n        [-0.06205757],\n        [ 0.38041767],\n        [ 0.09568254],\n        [ 0.14340883],\n        [ 0.1455656 ],\n        [ 0.16151416],\n        [-0.14227541],\n        [-0.04532967],\n        [ 0.12515192],\n        [-0.05237463],\n        [-0.04896764],\n        [-0.19441383],\n        [-0.00279151],\n        [ 0.01958285],\n        [ 0.06333959],\n        [ 0.05001205],\n        [-0.053833  ],\n        [ 0.0431169 ],\n        [ 0.04319985],\n        [-0.10981934],\n        [-0.04679341],\n        [ 0.1218964 ],\n        [ 0.06301505],\n        [-0.19377645],\n        [ 0.14564799],\n        [ 0.00643896],\n        [-0.04659015],\n        [-0.04638456],\n        [ 0.2760307 ],\n        [-0.01930572],\n        [-0.32723396],\n        [-0.35232062],\n        [ 0.23783465],\n        [ 0.13148311],\n        [ 0.02911627],\n        [ 0.07327635],\n        [ 0.19338971],\n        [-0.17238933],\n        [-0.0079544 ],\n        [-0.10399337],\n        [-0.18709857],\n        [ 0.34704697],\n        [ 0.30747045],\n        [-0.04885595],\n        [ 0.26305082],\n        [ 0.38486404],\n        [ 0.19664494],\n        [ 0.26482404],\n        [ 0.00264688],\n        [-0.14605349],\n        [ 0.10608853],\n        [ 0.1375118 ],\n        [ 0.06969045],\n        [ 0.2450354 ],\n        [-0.11526069],\n        [-0.06974375],\n        [ 0.01152889],\n        [-0.14950724],\n        [-0.17073571],\n        [-0.02768912],\n        [ 0.24313611],\n        [-0.26653732],\n        [-0.0861159 ],\n        [-0.13137959],\n        [ 0.35020707],\n        [ 0.1992715 ],\n        [ 0.18568641],\n        [ 0.03175855],\n        [-0.14479784],\n        [ 0.19797807],\n        [ 0.08479376],\n        [-0.28650197],\n        [ 0.15461592]]),\n 'b': -0.24944782142767388}"
     },
     "execution_count": 9,
     "metadata": {},
     "output_type": "execute_result"
    }
   ],
   "source": [
    "# 设置NumPy数组显示格式为小数点后3位，且不采用科学计数法\n",
    "# np.set_printoptions(precision=3, suppress=True)\n",
    "# 获取训练参数\n",
    "params"
   ]
  },
  {
   "cell_type": "markdown",
   "source": [
    "## 基于sklearn的实现"
   ],
   "metadata": {
    "collapsed": false
   }
  },
  {
   "cell_type": "code",
   "execution_count": 10,
   "metadata": {},
   "outputs": [],
   "source": [
    "from sklearn import linear_model"
   ]
  },
  {
   "cell_type": "code",
   "execution_count": 11,
   "outputs": [
    {
     "name": "stdout",
     "output_type": "stream",
     "text": [
      "sklearn Ridge intercept : [-0.40576153]\n",
      "\n",
      "sklearn Ridge coefficients :\n",
      " [[ 0.00000000e+00 -2.01786172e-01  5.45135248e-01  3.28370796e-01\n",
      "   7.88208577e-02  8.63329630e-01 -1.28629181e-01  8.98548367e-01\n",
      "  -4.15384520e-01  1.58905870e-01 -2.93807956e-02  6.32380717e-01\n",
      "   4.21771945e-02  9.24308741e-01  1.20277300e-01 -3.85333806e-01\n",
      "   1.63068579e-01  3.98963430e-01 -2.55902692e-02  8.88008417e-01\n",
      "   3.69510302e-02  5.63702626e-04 -1.74758205e-01  4.51826721e-01\n",
      "  -7.30107159e-02 -1.35017481e-01  5.39686001e-02 -4.02425081e-03\n",
      "  -6.07507156e-02  3.75631827e-01  8.57162815e-02  1.45771573e-01\n",
      "   1.44022204e-01  1.98972072e-01 -1.74729670e-01 -4.55411141e-02\n",
      "   2.10931708e-01 -4.20589474e-02 -1.16955409e-01 -3.48704701e-01\n",
      "   9.24987738e-02 -3.59919666e-02  3.12791851e-02  9.89341477e-02\n",
      "  -3.20373964e-02  5.01884867e-04  2.52601261e-02 -1.43870413e-01\n",
      "  -2.01630343e-01 -2.04659068e-02  1.39960583e-01 -2.40332862e-01\n",
      "   1.64551174e-01  1.05411007e-02 -1.27446721e-01 -8.05713152e-02\n",
      "   3.16799224e-01  2.97473607e-02 -3.62918779e-01 -4.33764143e-01\n",
      "   1.85767035e-01  2.22954621e-01 -9.97451115e-02  3.27282961e-02\n",
      "   2.41888947e-01 -2.56520012e-01 -9.21607311e-02 -1.32705556e-01\n",
      "  -3.01710290e-01  3.25678251e-01  3.98328108e-01 -3.75685067e-02\n",
      "   4.76284105e-01  4.66239153e-01  2.50059297e-01  3.35426970e-01\n",
      "  -3.25276476e-04 -5.62721088e-02  3.05320327e-03  2.27021494e-01\n",
      "   7.11869767e-02  1.96095806e-01 -4.35819139e-02 -1.69205809e-01\n",
      "  -2.33710367e-02 -1.70079831e-01 -1.29346798e-01 -3.03112649e-02\n",
      "   2.51270814e-01 -2.49230435e-01  6.83981071e-03 -2.30530011e-01\n",
      "   4.31418878e-01  2.76385366e-01  3.30323011e-01 -7.26567151e-03\n",
      "  -2.07740223e-01  2.47716612e-01  5.77447938e-02 -3.48931162e-01\n",
      "   1.59732296e-01]]\n"
     ]
    }
   ],
   "source": [
    "# 创建Ridge模型实例\n",
    "sk_ridge = linear_model.Ridge(alpha=1.0)\n",
    "# 对训练集进行拟合\n",
    "sk_ridge.fit(X_train, y_train)\n",
    "# 打印模型相关系数\n",
    "print(\"sklearn Ridge intercept :\", sk_ridge.intercept_)\n",
    "print(\"\\nsklearn Ridge coefficients :\\n\", sk_ridge.coef_)"
   ],
   "metadata": {
    "collapsed": false,
    "pycharm": {
     "name": "#%%\n"
    }
   }
  }
 ],
 "metadata": {
  "kernelspec": {
   "display_name": "Python 3",
   "language": "python",
   "name": "python3"
  },
  "language_info": {
   "codemirror_mode": {
    "name": "ipython",
    "version": 3
   },
   "file_extension": ".py",
   "mimetype": "text/x-python",
   "name": "python",
   "nbconvert_exporter": "python",
   "pygments_lexer": "ipython3",
   "version": "3.7.3"
  },
  "toc": {
   "base_numbering": 1,
   "nav_menu": {},
   "number_sections": true,
   "sideBar": true,
   "skip_h1_title": false,
   "title_cell": "Table of Contents",
   "title_sidebar": "Contents",
   "toc_cell": false,
   "toc_position": {},
   "toc_section_display": true,
   "toc_window_display": false
  }
 },
 "nbformat": 4,
 "nbformat_minor": 2
}