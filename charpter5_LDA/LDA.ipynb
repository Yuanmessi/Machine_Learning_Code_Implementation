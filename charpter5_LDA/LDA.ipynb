{
 "cells": [
  {
   "cell_type": "markdown",
   "metadata": {},
   "source": [
    "# 线性判别分析（LDA）"
   ]
  },
  {
   "cell_type": "markdown",
   "source": [
    "## 基于NumPy的实现"
   ],
   "metadata": {
    "collapsed": false,
    "pycharm": {
     "name": "#%% md\n"
    }
   }
  },
  {
   "cell_type": "code",
   "execution_count": 1,
   "outputs": [],
   "source": [
    "import numpy as np"
   ],
   "metadata": {
    "collapsed": false,
    "pycharm": {
     "name": "#%%\n"
    }
   }
  },
  {
   "cell_type": "markdown",
   "source": [
    "### 算法流程"
   ],
   "metadata": {
    "collapsed": false,
    "pycharm": {
     "name": "#%% md\n"
    }
   }
  },
  {
   "cell_type": "code",
   "execution_count": 9,
   "outputs": [],
   "source": [
    "### 定义LDA类\n",
    "class LDA:\n",
    "    def __init__(self):\n",
    "        # 初始化权重矩阵\n",
    "        self.w = None\n",
    "    # 协方差矩阵计算方法\n",
    "    def calc_cov(self, X, Y=None):\n",
    "        m = X.shape[0]\n",
    "        # 数据标准化\n",
    "        X = (X - np.mean(X, axis=0)) / np.std(X, axis=0)\n",
    "        Y = X if Y is None else (Y - np.mean(Y, axis=0)) / np.std(Y, axis=0)\n",
    "        return np.matmul(X.T, Y) / (m - 1)\n",
    "\n",
    "    # 数据投影方法\n",
    "    def project(self, X, y):\n",
    "        # LDA拟合获取模型权重\n",
    "        self.fit(X, y)\n",
    "        # 数据投影\n",
    "        X_projection = X.dot(self.w)\n",
    "        return X_projection\n",
    "\n",
    "    # LDA拟合方法\n",
    "    def fit(self, X, y):\n",
    "        # (1)按类分组\n",
    "        X0 = X[y == 0]\n",
    "        X1 = X[y == 1]\n",
    "        # (2)分别计算两类数据自变量的协方差矩阵\n",
    "        sigma0 = self.calc_cov(X0)\n",
    "        sigma1 = self.calc_cov(X1)\n",
    "        # (3)计算类内散度矩阵\n",
    "        Sw = sigma0 + sigma1\n",
    "        # (4)分别计算两类数据自变量的均值和差\n",
    "        u0, u1 = np.mean(X0, axis=0), np.mean(X1, axis=0)\n",
    "        mean_diff = np.atleast_1d(u0 - u1)\n",
    "        # (5)对类内散度矩阵进行奇异值分解\n",
    "        U, S, V = np.linalg.svd(Sw)\n",
    "        # (6)计算类内散度矩阵的(伪)逆\n",
    "        Sw_ = np.dot(np.dot(V.T, np.linalg.pinv(np.diag(S))), U.T)\n",
    "        # (7)计算w\n",
    "        self.w = Sw_.dot(mean_diff)\n",
    "\n",
    "    # LDA分类预测\n",
    "    def predict(self, X):\n",
    "        # 初始化预测结果为空列表\n",
    "        y_pred = []\n",
    "        # 遍历待预测样本\n",
    "        for x_i in X:\n",
    "            # 模型预测\n",
    "            h = x_i.dot(self.w)\n",
    "            y = 1 * (h < 0)\n",
    "            y_pred.append(y)\n",
    "        return y_pred"
   ],
   "metadata": {
    "collapsed": false,
    "pycharm": {
     "name": "#%%\n"
    }
   }
  },
  {
   "cell_type": "markdown",
   "source": [
    "### 数据测试"
   ],
   "metadata": {
    "collapsed": false,
    "pycharm": {
     "name": "#%% md\n"
    }
   }
  },
  {
   "cell_type": "code",
   "execution_count": 3,
   "outputs": [],
   "source": [
    "from sklearn import datasets\n",
    "from sklearn.model_selection import train_test_split\n",
    "from sklearn.metrics import accuracy_score"
   ],
   "metadata": {
    "collapsed": false,
    "pycharm": {
     "name": "#%%\n"
    }
   }
  },
  {
   "cell_type": "code",
   "execution_count": 4,
   "outputs": [],
   "source": [
    "# 导入数据集\n",
    "data = datasets.load_iris()\n",
    "X, y = data.data, data.target"
   ],
   "metadata": {
    "collapsed": false,
    "pycharm": {
     "name": "#%%\n"
    }
   }
  },
  {
   "cell_type": "code",
   "execution_count": 6,
   "outputs": [],
   "source": [
    "# 取标签不为2的数据\n",
    "X, y = X[y != 2], y[y != 2]\n",
    "# 划分训练集和测试集\n",
    "X_train, X_test, y_train, y_test = train_test_split(X, y, test_size=0.2, random_state=41)"
   ],
   "metadata": {
    "collapsed": false,
    "pycharm": {
     "name": "#%%\n"
    }
   }
  },
  {
   "cell_type": "code",
   "execution_count": 10,
   "outputs": [
    {
     "name": "stdout",
     "output_type": "stream",
     "text": [
      "Accuracy of NumPy LDA: 0.85\n"
     ]
    }
   ],
   "source": [
    "# 创建LDA模型实例\n",
    "lda = LDA()\n",
    "# LDA模型拟合\n",
    "lda.fit(X_train, y_train)\n",
    "# LDA模型预测\n",
    "y_pred = lda.predict(X_test)\n",
    "# 测试集上的分类准确率\n",
    "acc = accuracy_score(y_test, y_pred)\n",
    "print(\"Accuracy of NumPy LDA:\", acc)"
   ],
   "metadata": {
    "collapsed": false,
    "pycharm": {
     "name": "#%%\n"
    }
   }
  },
  {
   "cell_type": "markdown",
   "source": [
    "## 基于sklearn的实现"
   ],
   "metadata": {
    "collapsed": false,
    "pycharm": {
     "name": "#%% md\n"
    }
   }
  },
  {
   "cell_type": "code",
   "execution_count": 11,
   "outputs": [],
   "source": [
    "from sklearn.discriminant_analysis import LinearDiscriminantAnalysis"
   ],
   "metadata": {
    "collapsed": false,
    "pycharm": {
     "name": "#%%\n"
    }
   }
  },
  {
   "cell_type": "code",
   "execution_count": 12,
   "outputs": [
    {
     "name": "stdout",
     "output_type": "stream",
     "text": [
      "Accuracy of Sklearn LDA: 1.0\n"
     ]
    }
   ],
   "source": [
    "# 创建LDA分类器\n",
    "clf = LinearDiscriminantAnalysis()\n",
    "# 模型拟合\n",
    "clf.fit(X_train, y_train)\n",
    "# 模型预测\n",
    "y_pred = clf.predict(X_test)\n",
    "# 测试集上的分类准确率\n",
    "acc = accuracy_score(y_test, y_pred)\n",
    "print(\"Accuracy of Sklearn LDA:\", acc)"
   ],
   "metadata": {
    "collapsed": false,
    "pycharm": {
     "name": "#%%\n"
    }
   }
  }
 ],
 "metadata": {
  "kernelspec": {
   "display_name": "Python 3",
   "language": "python",
   "name": "python3"
  },
  "language_info": {
   "codemirror_mode": {
    "name": "ipython",
    "version": 3
   },
   "file_extension": ".py",
   "mimetype": "text/x-python",
   "name": "python",
   "nbconvert_exporter": "python",
   "pygments_lexer": "ipython3",
   "version": "3.7.3"
  },
  "toc": {
   "base_numbering": 1,
   "nav_menu": {},
   "number_sections": true,
   "sideBar": true,
   "skip_h1_title": false,
   "title_cell": "Table of Contents",
   "title_sidebar": "Contents",
   "toc_cell": false,
   "toc_position": {},
   "toc_section_display": true,
   "toc_window_display": false
  }
 },
 "nbformat": 4,
 "nbformat_minor": 2
}